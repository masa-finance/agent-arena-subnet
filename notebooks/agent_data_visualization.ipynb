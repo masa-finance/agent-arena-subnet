{
 "cells": [
  {
   "cell_type": "code",
   "execution_count": 21,
   "metadata": {},
   "outputs": [
    {
     "name": "stdout",
     "output_type": "stream",
     "text": [
      "\u001b[34m\u001b[1m2025-01-10 16:29:05.172\u001b[0m | \u001b[37m\u001b[1m\u001b[32m\u001b[1mINFO\u001b[0m\u001b[0m | \u001b[34m\u001b[1mchain_utils\u001b[0m:\u001b[34m\u001b[1mload_hotkey_keypair\u001b[0m:\u001b[34m\u001b[1m98\u001b[0m - \u001b[37m\u001b[1mLoaded keypair from /Users/grant/.bittensor/wallets/validator/hotkeys/default\u001b[0m\n"
     ]
    },
    {
     "name": "stderr",
     "output_type": "stream",
     "text": [
      "2025-01-10 16:29:05,172 - \u001b[32m\u001b[1mINFO\u001b[0m - chain_utils - Loaded keypair from /Users/grant/.bittensor/wallets/validator/hotkeys/default\n"
     ]
    },
    {
     "name": "stdout",
     "output_type": "stream",
     "text": [
      "\u001b[34m\u001b[1m2025-01-10 16:29:05.173\u001b[0m | \u001b[37m\u001b[1m\u001b[32m\u001b[1mINFO\u001b[0m\u001b[0m | \u001b[34m\u001b[1minterface\u001b[0m:\u001b[34m\u001b[1m_get_chain_endpoint\u001b[0m:\u001b[34m\u001b[1m15\u001b[0m - \u001b[37m\u001b[1mUsing chain address: wss://entrypoint-finney.opentensor.ai:443\u001b[0m\n"
     ]
    },
    {
     "name": "stderr",
     "output_type": "stream",
     "text": [
      "2025-01-10 16:29:05,173 - \u001b[32m\u001b[1mINFO\u001b[0m - interface - Using chain address: wss://entrypoint-finney.opentensor.ai:443\n"
     ]
    },
    {
     "name": "stdout",
     "output_type": "stream",
     "text": [
      "\u001b[34m\u001b[1m2025-01-10 16:29:05.500\u001b[0m | \u001b[37m\u001b[1m\u001b[32m\u001b[1mINFO\u001b[0m\u001b[0m | \u001b[34m\u001b[1minterface\u001b[0m:\u001b[34m\u001b[1mget_substrate\u001b[0m:\u001b[34m\u001b[1m39\u001b[0m - \u001b[37m\u001b[1mConnected to wss://entrypoint-finney.opentensor.ai:443\u001b[0m\n"
     ]
    },
    {
     "name": "stderr",
     "output_type": "stream",
     "text": [
      "2025-01-10 16:29:05,500 - \u001b[32m\u001b[1mINFO\u001b[0m - interface - Connected to wss://entrypoint-finney.opentensor.ai:443\n"
     ]
    },
    {
     "name": "stdout",
     "output_type": "stream",
     "text": [
      "\u001b[34m\u001b[1m2025-01-10 16:29:05.501\u001b[0m | \u001b[37m\u001b[1m\u001b[36m\u001b[1mDEBUG\u001b[0m\u001b[0m | \u001b[34m\u001b[1mmetagraph\u001b[0m:\u001b[34m\u001b[1m__init__\u001b[0m:\u001b[34m\u001b[1m41\u001b[0m - \u001b[37m\u001b[1mLoading nodes from file...\u001b[0m\n"
     ]
    },
    {
     "name": "stderr",
     "output_type": "stream",
     "text": [
      "2025-01-10 16:29:05,501 - \u001b[36m\u001b[1mDEBUG\u001b[0m - metagraph - Loading nodes from file...\n"
     ]
    },
    {
     "name": "stdout",
     "output_type": "stream",
     "text": [
      "\u001b[34m\u001b[1m2025-01-10 16:29:05.502\u001b[0m | \u001b[37m\u001b[1m\u001b[32m\u001b[1mINFO\u001b[0m\u001b[0m | \u001b[34m\u001b[1mmetagraph\u001b[0m:\u001b[34m\u001b[1mload_nodes\u001b[0m:\u001b[34m\u001b[1m85\u001b[0m - \u001b[37m\u001b[1mLoading nodes from nodes.json\u001b[0m\n"
     ]
    },
    {
     "name": "stderr",
     "output_type": "stream",
     "text": [
      "2025-01-10 16:29:05,502 - \u001b[32m\u001b[1mINFO\u001b[0m - metagraph - Loading nodes from nodes.json\n"
     ]
    },
    {
     "name": "stdout",
     "output_type": "stream",
     "text": [
      "\u001b[34m\u001b[1m2025-01-10 16:29:05.503\u001b[0m | \u001b[37m\u001b[1m\u001b[32m\u001b[1mINFO\u001b[0m\u001b[0m | \u001b[34m\u001b[1mmetagraph\u001b[0m:\u001b[34m\u001b[1msync_nodes\u001b[0m:\u001b[34m\u001b[1m64\u001b[0m - \u001b[37m\u001b[1mSyncing nodes...\u001b[0m\n"
     ]
    },
    {
     "name": "stderr",
     "output_type": "stream",
     "text": [
      "2025-01-10 16:29:05,503 - \u001b[32m\u001b[1mINFO\u001b[0m - metagraph - Syncing nodes...\n"
     ]
    },
    {
     "name": "stdout",
     "output_type": "stream",
     "text": [
      "\u001b[34m\u001b[1m2025-01-10 16:29:05.504\u001b[0m | \u001b[37m\u001b[1m\u001b[32m\u001b[1mINFO\u001b[0m\u001b[0m | \u001b[34m\u001b[1minterface\u001b[0m:\u001b[34m\u001b[1m_get_chain_endpoint\u001b[0m:\u001b[34m\u001b[1m15\u001b[0m - \u001b[37m\u001b[1mUsing chain address: wss://entrypoint-finney.opentensor.ai:443\u001b[0m\n"
     ]
    },
    {
     "name": "stderr",
     "output_type": "stream",
     "text": [
      "2025-01-10 16:29:05,504 - \u001b[32m\u001b[1mINFO\u001b[0m - interface - Using chain address: wss://entrypoint-finney.opentensor.ai:443\n"
     ]
    },
    {
     "name": "stdout",
     "output_type": "stream",
     "text": [
      "\u001b[34m\u001b[1m2025-01-10 16:29:05.835\u001b[0m | \u001b[37m\u001b[1m\u001b[32m\u001b[1mINFO\u001b[0m\u001b[0m | \u001b[34m\u001b[1minterface\u001b[0m:\u001b[34m\u001b[1mget_substrate\u001b[0m:\u001b[34m\u001b[1m39\u001b[0m - \u001b[37m\u001b[1mConnected to wss://entrypoint-finney.opentensor.ai:443\u001b[0m\n"
     ]
    },
    {
     "name": "stderr",
     "output_type": "stream",
     "text": [
      "2025-01-10 16:29:05,835 - \u001b[32m\u001b[1mINFO\u001b[0m - interface - Connected to wss://entrypoint-finney.opentensor.ai:443\n"
     ]
    },
    {
     "name": "stdout",
     "output_type": "stream",
     "text": [
      "\u001b[34m\u001b[1m2025-01-10 16:29:05.837\u001b[0m | \u001b[37m\u001b[1m\u001b[36m\u001b[1mDEBUG\u001b[0m\u001b[0m | \u001b[34m\u001b[1mfetch_nodes\u001b[0m:\u001b[34m\u001b[1m_get_nodes_for_uid\u001b[0m:\u001b[34m\u001b[1m146\u001b[0m - \u001b[37m\u001b[1mSubstrate interface is connected: True\u001b[0m\n"
     ]
    },
    {
     "name": "stderr",
     "output_type": "stream",
     "text": [
      "2025-01-10 16:29:05,837 - \u001b[36m\u001b[1mDEBUG\u001b[0m - fetch_nodes - Substrate interface is connected: True\n"
     ]
    },
    {
     "name": "stdout",
     "output_type": "stream",
     "text": [
      "\u001b[34m\u001b[1m2025-01-10 16:29:07.364\u001b[0m | \u001b[37m\u001b[1m\u001b[32m\u001b[1mINFO\u001b[0m\u001b[0m | \u001b[34m\u001b[1mmetagraph\u001b[0m:\u001b[34m\u001b[1msync_nodes\u001b[0m:\u001b[34m\u001b[1m68\u001b[0m - \u001b[37m\u001b[1m✅ Successfully synced 256 nodes!\u001b[0m\n"
     ]
    },
    {
     "name": "stderr",
     "output_type": "stream",
     "text": [
      "2025-01-10 16:29:07,364 - \u001b[32m\u001b[1mINFO\u001b[0m - metagraph - ✅ Successfully synced 256 nodes!\n",
      "2025-01-10 16:29:07,677 - INFO - httpx - HTTP Request: GET https://test.protocol-api.masa.ai/v1.0.0/subnet59/miners/active/59 \"HTTP/1.1 200 OK\"\n"
     ]
    },
    {
     "name": "stdout",
     "output_type": "stream",
     "text": [
      "\u001b[34m\u001b[1m2025-01-10 16:29:07.958\u001b[0m | \u001b[37m\u001b[1m\u001b[32m\u001b[1mINFO\u001b[0m\u001b[0m | \u001b[34m\u001b[1mregistration\u001b[0m:\u001b[34m\u001b[1mfetch_registered_agents\u001b[0m:\u001b[34m\u001b[1m55\u001b[0m - \u001b[37m\u001b[1mSuccessfully fetched and updated active agents.\u001b[0m\n"
     ]
    },
    {
     "name": "stderr",
     "output_type": "stream",
     "text": [
      "2025-01-10 16:29:07,958 - \u001b[32m\u001b[1mINFO\u001b[0m - registration - Successfully fetched and updated active agents.\n"
     ]
    },
    {
     "name": "stdout",
     "output_type": "stream",
     "text": [
      "Total agents: 242\n",
      "Agents with emissions: 154\n"
     ]
    }
   ],
   "source": [
    "import os\n",
    "import pandas as pd\n",
    "\n",
    "from neurons.validator import AgentValidator\n",
    "from protocol.validator.registration import ValidatorRegistration\n",
    "\n",
    "os.environ['ENV'] = 'prod'\n",
    "os.environ['NETUID'] = '59'\n",
    "os.environ['SUBTENSOR_NETWORK'] = 'finney'\n",
    "os.environ['SUBTENSOR_ADDRESS'] = 'wss://entrypoint-finney.opentensor.ai:443'\n",
    "os.environ['VALIDATOR_WALLET_NAME'] = 'validator'\n",
    "os.environ['VALIDATOR_HOTKEY_NAME'] = 'default'\n",
    "os.environ['VALIDATOR_PORT'] = '8081'\n",
    "os.environ['API_URL'] = 'https://test.protocol-api.masa.ai'\n",
    "os.environ['API_KEY'] = 'test'\n",
    "\n",
    "validator = AgentValidator()\n",
    "registrar = ValidatorRegistration(validator)\n",
    "\n",
    "await registrar.fetch_registered_agents()\n",
    "\n",
    "agents = list(validator.registered_agents.values())\n",
    "agents_df = pd.DataFrame(agents)\n",
    "\n",
    "# Count of agents\n",
    "total_agents = len(agents_df)\n",
    "print(f\"Total agents: {total_agents}\")\n",
    "\n",
    "# Count of agents with emissions\n",
    "agents_with_emissions = agents_df[agents_df['Emissions'] > 0]\n",
    "num_agents_with_emissions = len(agents_with_emissions)\n",
    "print(f\"Agents with emissions: {num_agents_with_emissions}\")\n"
   ]
  }
 ],
 "metadata": {
  "kernelspec": {
   "display_name": "arena",
   "language": "python",
   "name": "python3"
  },
  "language_info": {
   "codemirror_mode": {
    "name": "ipython",
    "version": 3
   },
   "file_extension": ".py",
   "mimetype": "text/x-python",
   "name": "python",
   "nbconvert_exporter": "python",
   "pygments_lexer": "ipython3",
   "version": "3.12.5"
  }
 },
 "nbformat": 4,
 "nbformat_minor": 2
}
